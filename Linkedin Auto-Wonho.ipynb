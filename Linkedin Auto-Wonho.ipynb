{
 "cells": [
  {
   "cell_type": "code",
   "execution_count": null,
   "id": "97914847",
   "metadata": {},
   "outputs": [],
   "source": []
  },
  {
   "cell_type": "code",
   "execution_count": 8,
   "id": "c5dec153",
   "metadata": {
    "scrolled": false
   },
   "outputs": [
    {
     "name": "stdout",
     "output_type": "stream",
     "text": [
      "Requirement already satisfied: selenium in c:\\users\\resea\\anaconda3\\lib\\site-packages (4.1.0)\n",
      "Requirement already satisfied: urllib3[secure]~=1.26 in c:\\users\\resea\\anaconda3\\lib\\site-packages (from selenium) (1.26.7)\n",
      "Requirement already satisfied: trio~=0.17 in c:\\users\\resea\\anaconda3\\lib\\site-packages (from selenium) (0.19.0)\n",
      "Requirement already satisfied: trio-websocket~=0.9 in c:\\users\\resea\\anaconda3\\lib\\site-packages (from selenium) (0.9.2)\n",
      "Requirement already satisfied: attrs>=19.2.0 in c:\\users\\resea\\anaconda3\\lib\\site-packages (from trio~=0.17->selenium) (21.2.0)\n",
      "Requirement already satisfied: sniffio in c:\\users\\resea\\anaconda3\\lib\\site-packages (from trio~=0.17->selenium) (1.2.0)\n",
      "Requirement already satisfied: idna in c:\\users\\resea\\anaconda3\\lib\\site-packages (from trio~=0.17->selenium) (3.2)\n",
      "Requirement already satisfied: outcome in c:\\users\\resea\\anaconda3\\lib\\site-packages (from trio~=0.17->selenium) (1.1.0)\n",
      "Requirement already satisfied: cffi>=1.14 in c:\\users\\resea\\anaconda3\\lib\\site-packages (from trio~=0.17->selenium) (1.14.6)\n",
      "Requirement already satisfied: async-generator>=1.9 in c:\\users\\resea\\anaconda3\\lib\\site-packages (from trio~=0.17->selenium) (1.10)\n",
      "Requirement already satisfied: sortedcontainers in c:\\users\\resea\\anaconda3\\lib\\site-packages (from trio~=0.17->selenium) (2.4.0)\n",
      "Requirement already satisfied: pycparser in c:\\users\\resea\\anaconda3\\lib\\site-packages (from cffi>=1.14->trio~=0.17->selenium) (2.20)\n",
      "Requirement already satisfied: wsproto>=0.14 in c:\\users\\resea\\anaconda3\\lib\\site-packages (from trio-websocket~=0.9->selenium) (1.0.0)\n",
      "Requirement already satisfied: pyOpenSSL>=0.14 in c:\\users\\resea\\anaconda3\\lib\\site-packages (from urllib3[secure]~=1.26->selenium) (21.0.0)\n",
      "Requirement already satisfied: cryptography>=1.3.4 in c:\\users\\resea\\anaconda3\\lib\\site-packages (from urllib3[secure]~=1.26->selenium) (3.4.8)\n",
      "Requirement already satisfied: certifi in c:\\users\\resea\\anaconda3\\lib\\site-packages (from urllib3[secure]~=1.26->selenium) (2021.10.8)\n",
      "Requirement already satisfied: six>=1.5.2 in c:\\users\\resea\\anaconda3\\lib\\site-packages (from pyOpenSSL>=0.14->urllib3[secure]~=1.26->selenium) (1.16.0)\n",
      "Requirement already satisfied: h11<1,>=0.9.0 in c:\\users\\resea\\anaconda3\\lib\\site-packages (from wsproto>=0.14->trio-websocket~=0.9->selenium) (0.12.0)\n"
     ]
    }
   ],
   "source": [
    "! pip install selenium"
   ]
  },
  {
   "cell_type": "code",
   "execution_count": 16,
   "id": "42c1e5ac",
   "metadata": {},
   "outputs": [],
   "source": [
    "from selenium import webdriver\n",
    "from selenium.webdriver.common.keys import Keys\n",
    "from selenium.webdriver.support import expected_conditions as EC\n",
    "from selenium.webdriver.common.by import By\n",
    "from selenium.webdriver.support.wait import WebDriverWait\n",
    "\n",
    "import time "
   ]
  },
  {
   "cell_type": "code",
   "execution_count": 21,
   "id": "90a452d2",
   "metadata": {},
   "outputs": [
    {
     "name": "stderr",
     "output_type": "stream",
     "text": [
      "C:\\Users\\resea\\AppData\\Local\\Temp/ipykernel_158896/2274790760.py:8: DeprecationWarning: executable_path has been deprecated, please pass in a Service object\n",
      "  driver = webdriver.Chrome(\"C:/Users/resea/chromedriver.exe\",chrome_options = chrome_options)\n",
      "C:\\Users\\resea\\AppData\\Local\\Temp/ipykernel_158896/2274790760.py:8: DeprecationWarning: use options instead of chrome_options\n",
      "  driver = webdriver.Chrome(\"C:/Users/resea/chromedriver.exe\",chrome_options = chrome_options)\n"
     ]
    }
   ],
   "source": [
    "\n",
    "\n",
    "\n",
    "chrome_options  = webdriver.ChromeOptions()\n",
    "chrome_options.add_experimental_option(\"excludeSwitches\", ['disable-infobars','enable-automation'])\n",
    "chrome_options.add_argument(\"--start-maximized\")\n",
    "\n",
    "driver = webdriver.Chrome(options=chrome_options)\n",
    "\n",
    "\n",
    "driver = webdriver.Chrome(\"C:/Users/resea/chromedriver.exe\",chrome_options = chrome_options)\n",
    "driver.get(\"https://linkedin.com\")\n",
    "\n",
    "time.sleep(2)\n"
   ]
  },
  {
   "cell_type": "code",
   "execution_count": 22,
   "id": "c6639ed8",
   "metadata": {},
   "outputs": [
    {
     "name": "stderr",
     "output_type": "stream",
     "text": [
      "C:\\Users\\resea\\AppData\\Local\\Temp/ipykernel_158896/683922549.py:3: DeprecationWarning: find_element_by_* commands are deprecated. Please use find_element() instead\n",
      "  username=driver.find_element_by_xpath(\"//input[@name='session_key']\")\n",
      "C:\\Users\\resea\\AppData\\Local\\Temp/ipykernel_158896/683922549.py:4: DeprecationWarning: find_element_by_* commands are deprecated. Please use find_element() instead\n",
      "  password=driver.find_element_by_xpath(\"//input[@name='session_password']\")\n",
      "C:\\Users\\resea\\AppData\\Local\\Temp/ipykernel_158896/683922549.py:13: DeprecationWarning: find_element_by_* commands are deprecated. Please use find_element() instead\n",
      "  submit=driver.find_element_by_xpath(\"//button[@type='submit']\").click()\n"
     ]
    }
   ],
   "source": [
    "time.sleep(1)\n",
    "\n",
    "username=driver.find_element_by_xpath(\"//input[@name='session_key']\")\n",
    "password=driver.find_element_by_xpath(\"//input[@name='session_password']\")\n",
    "\n",
    "username.send_keys(EMAIL)\n",
    "password.send_keys(PASSWORD)\n",
    "\n",
    "\n",
    "time.sleep(1)\n",
    "\n",
    "\n",
    "submit=driver.find_element_by_xpath(\"//button[@type='submit']\").click()\n",
    "\n",
    "\n",
    "time.sleep(2)\n"
   ]
  },
  {
   "cell_type": "code",
   "execution_count": 12,
   "id": "77d9e7c3",
   "metadata": {},
   "outputs": [],
   "source": [
    "def run_p_p(page):\n",
    "\n",
    "    driver.get(\"https://www.linkedin.com/search/results/people/?geoUrn=%5B%22103644278%22%5D&keywords=data%20analyst&network=%5B%22S%22%2C%22O%22%5D&origin=FACETED_SEARCH&page=\"+page+\"&sid=a.K\")\n",
    "\n",
    "\n",
    "    time.sleep(2)\n",
    "\n",
    "    all_buttons = driver.find_elements_by_tag_name(\"Button\")\n",
    "\n",
    "    connect_buttons = [btn for btn in all_buttons if btn.text == \"Connect\"]\n",
    "\n",
    "\n",
    "    message_buttons = [btn for btn in all_buttons if btn.text == \"Message\"]\n",
    "\n",
    "\n",
    "    for contacts in range(0,len(connect_buttons)):\n",
    "        driver.execute_script(\"arguments[0].click();\", connect_buttons[contacts])\n",
    "        time.sleep(1)\n",
    "\n",
    "        Note=driver.find_element_by_xpath(\"//button[@aria-label='Add a note']\").click()\n",
    "        Note_txt=driver.find_element_by_xpath(\"//textarea[@name='message']\")\n",
    "        Note_txt.send_keys(\"Hello \",driver.find_element_by_xpath(\"//h2[@id='send-invite-modal']\").text.split()[1]+\", nice to meet you! I'm a new data analyst who is just entering the industry. I'm trying to connect with people in the industry and learn from them, so if you accept, I'd be happy to chat.\")\n",
    "        send_now=driver.find_element_by_xpath(\"//button[@aria-label='Send now']\").click()\n",
    "\n",
    "\n",
    "\n",
    "\n",
    "\n",
    "        \n"
   ]
  },
  {
   "cell_type": "code",
   "execution_count": 15,
   "id": "e23a2df9",
   "metadata": {
    "collapsed": true
   },
   "outputs": [
    {
     "name": "stderr",
     "output_type": "stream",
     "text": [
      "C:\\Users\\resea\\AppData\\Local\\Temp/ipykernel_158896/1748103053.py:8: DeprecationWarning: find_elements_by_* commands are deprecated. Please use find_elements() instead\n",
      "  all_buttons = driver.find_elements_by_tag_name(\"Button\")\n",
      "C:\\Users\\resea\\AppData\\Local\\Temp/ipykernel_158896/1748103053.py:20: DeprecationWarning: find_element_by_* commands are deprecated. Please use find_element() instead\n",
      "  Note=driver.find_element_by_xpath(\"//button[@aria-label='Add a note']\").click()\n",
      "C:\\Users\\resea\\AppData\\Local\\Temp/ipykernel_158896/1748103053.py:21: DeprecationWarning: find_element_by_* commands are deprecated. Please use find_element() instead\n",
      "  Note_txt=driver.find_element_by_xpath(\"//textarea[@name='message']\")\n",
      "C:\\Users\\resea\\AppData\\Local\\Temp/ipykernel_158896/1748103053.py:22: DeprecationWarning: find_element_by_* commands are deprecated. Please use find_element() instead\n",
      "  Note_txt.send_keys(\"Hello \",driver.find_element_by_xpath(\"//h2[@id='send-invite-modal']\").text.split()[1]+\", nice to meet you! I'm a new data analyst who is just entering the industry. I'm trying to connect with people in the industry and learn from them, so if you accept, I'd be happy to chat.\")\n",
      "C:\\Users\\resea\\AppData\\Local\\Temp/ipykernel_158896/1748103053.py:23: DeprecationWarning: find_element_by_* commands are deprecated. Please use find_element() instead\n",
      "  send_now=driver.find_element_by_xpath(\"//button[@aria-label='Send now']\").click()\n"
     ]
    },
    {
     "ename": "KeyboardInterrupt",
     "evalue": "",
     "output_type": "error",
     "traceback": [
      "\u001b[1;31m---------------------------------------------------------------------------\u001b[0m",
      "\u001b[1;31mKeyboardInterrupt\u001b[0m                         Traceback (most recent call last)",
      "\u001b[1;32m~\\AppData\\Local\\Temp/ipykernel_158896/3427087289.py\u001b[0m in \u001b[0;36m<module>\u001b[1;34m\u001b[0m\n\u001b[0;32m      1\u001b[0m \u001b[1;32mfor\u001b[0m \u001b[0mi\u001b[0m \u001b[1;32min\u001b[0m \u001b[0mrange\u001b[0m\u001b[1;33m(\u001b[0m\u001b[1;36m3\u001b[0m\u001b[1;33m,\u001b[0m\u001b[1;36m31\u001b[0m\u001b[1;33m)\u001b[0m\u001b[1;33m:\u001b[0m\u001b[1;33m\u001b[0m\u001b[1;33m\u001b[0m\u001b[0m\n\u001b[1;32m----> 2\u001b[1;33m     \u001b[0mrun_p_p\u001b[0m\u001b[1;33m(\u001b[0m\u001b[0mstr\u001b[0m\u001b[1;33m(\u001b[0m\u001b[0mi\u001b[0m\u001b[1;33m)\u001b[0m\u001b[1;33m)\u001b[0m\u001b[1;33m\u001b[0m\u001b[1;33m\u001b[0m\u001b[0m\n\u001b[0m",
      "\u001b[1;32m~\\AppData\\Local\\Temp/ipykernel_158896/1748103053.py\u001b[0m in \u001b[0;36mrun_p_p\u001b[1;34m(page)\u001b[0m\n\u001b[0;32m      4\u001b[0m \u001b[1;33m\u001b[0m\u001b[0m\n\u001b[0;32m      5\u001b[0m \u001b[1;33m\u001b[0m\u001b[0m\n\u001b[1;32m----> 6\u001b[1;33m     \u001b[0mtime\u001b[0m\u001b[1;33m.\u001b[0m\u001b[0msleep\u001b[0m\u001b[1;33m(\u001b[0m\u001b[1;36m2\u001b[0m\u001b[1;33m)\u001b[0m\u001b[1;33m\u001b[0m\u001b[1;33m\u001b[0m\u001b[0m\n\u001b[0m\u001b[0;32m      7\u001b[0m \u001b[1;33m\u001b[0m\u001b[0m\n\u001b[0;32m      8\u001b[0m     \u001b[0mall_buttons\u001b[0m \u001b[1;33m=\u001b[0m \u001b[0mdriver\u001b[0m\u001b[1;33m.\u001b[0m\u001b[0mfind_elements_by_tag_name\u001b[0m\u001b[1;33m(\u001b[0m\u001b[1;34m\"Button\"\u001b[0m\u001b[1;33m)\u001b[0m\u001b[1;33m\u001b[0m\u001b[1;33m\u001b[0m\u001b[0m\n",
      "\u001b[1;31mKeyboardInterrupt\u001b[0m: "
     ]
    }
   ],
   "source": [
    "for i in range(3,31):\n",
    "    run_p_p(str(i))"
   ]
  },
  {
   "cell_type": "code",
   "execution_count": null,
   "id": "1262fa2b",
   "metadata": {},
   "outputs": [],
   "source": []
  },
  {
   "cell_type": "code",
   "execution_count": null,
   "id": "ce3b0467",
   "metadata": {},
   "outputs": [],
   "source": []
  },
  {
   "cell_type": "code",
   "execution_count": null,
   "id": "e2ee14fb",
   "metadata": {},
   "outputs": [],
   "source": []
  },
  {
   "cell_type": "code",
   "execution_count": null,
   "id": "88be63f2",
   "metadata": {},
   "outputs": [],
   "source": []
  },
  {
   "cell_type": "code",
   "execution_count": null,
   "id": "8ab597fc",
   "metadata": {},
   "outputs": [],
   "source": []
  }
 ],
 "metadata": {
  "kernelspec": {
   "display_name": "Python 3 (ipykernel)",
   "language": "python",
   "name": "python3"
  },
  "language_info": {
   "codemirror_mode": {
    "name": "ipython",
    "version": 3
   },
   "file_extension": ".py",
   "mimetype": "text/x-python",
   "name": "python",
   "nbconvert_exporter": "python",
   "pygments_lexer": "ipython3",
   "version": "3.9.7"
  }
 },
 "nbformat": 4,
 "nbformat_minor": 5
}
